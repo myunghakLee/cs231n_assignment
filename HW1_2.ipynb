{
 "cells": [
  {
   "cell_type": "markdown",
   "id": "nasty-gibson",
   "metadata": {},
   "source": [
    "# 2.b"
   ]
  },
  {
   "cell_type": "code",
   "execution_count": 569,
   "id": "conservative-brighton",
   "metadata": {
    "ExecuteTime": {
     "end_time": "2021-04-12T06:55:39.674402Z",
     "start_time": "2021-04-12T06:55:39.650817Z"
    }
   },
   "outputs": [],
   "source": [
    "import numpy as np\n",
    "\n",
    "class NeuralNet:\n",
    "    def __init__(self):\n",
    "        self.mult = lambda x,w,bias : x*w+bias\n",
    "\n",
    "        self.tanh_diff = lambda x: (1+np.tanh(x))*(1-np.tanh(x))\n",
    "        \n",
    "        \n",
    "        \n",
    "        self.w0 = 2.0\n",
    "        self.w1 = 3.0\n",
    "\n",
    "        self.b0 = 2.0\n",
    "        self.b1 = 3.0\n",
    "        \n",
    "        self.computational_history = []\n",
    "\n",
    "    def forward(self, x):\n",
    "        self.computational_history = []\n",
    "        self.computational_history.append(x)\n",
    "        x = np.tanh(self.mult(x,self.w0, self.b0))\n",
    "        self.computational_history.append(x)\n",
    "\n",
    "        x = np.tanh(self.mult(x,self.w1, self.b1))\n",
    "        return x\n",
    "    \n",
    "    def backward(self, loss):\n",
    "        loss = self.tanh_diff(loss)\n",
    "        self.b1 += loss\n",
    "        loss, self.w1 = loss * self.w1, self.w1+loss*self.computational_history.pop()\n",
    "        \n",
    "        loss = self.tanh_diff(loss)\n",
    "        self.b0 += loss\n",
    "        self.w0 = self.w0+loss*self.computational_history.pop()\n",
    "        \n",
    "        "
   ]
  },
  {
   "cell_type": "code",
   "execution_count": 570,
   "id": "adjustable-cookbook",
   "metadata": {
    "ExecuteTime": {
     "end_time": "2021-04-12T06:55:40.015053Z",
     "start_time": "2021-04-12T06:55:40.008305Z"
    }
   },
   "outputs": [],
   "source": [
    "A = NeuralNet()"
   ]
  },
  {
   "cell_type": "markdown",
   "id": "early-carrier",
   "metadata": {},
   "source": [
    "## 학습되는지 테스트"
   ]
  },
  {
   "cell_type": "code",
   "execution_count": 571,
   "id": "romantic-district",
   "metadata": {
    "ExecuteTime": {
     "end_time": "2021-04-12T06:55:40.255886Z",
     "start_time": "2021-04-12T06:55:40.248871Z"
    }
   },
   "outputs": [],
   "source": [
    "ans_w0 = 7.0\n",
    "ans_w1 = 6.0\n",
    "\n",
    "ans_b0 = 13.0\n",
    "ans_b1 = 5.0\n"
   ]
  },
  {
   "cell_type": "code",
   "execution_count": 572,
   "id": "attempted-basement",
   "metadata": {
    "ExecuteTime": {
     "end_time": "2021-04-12T06:55:40.665795Z",
     "start_time": "2021-04-12T06:55:40.606495Z"
    }
   },
   "outputs": [],
   "source": [
    "from tqdm import tqdm\n",
    "losses = []\n",
    "dist = []\n",
    "learnging_rate = 0.01\n",
    "for i in range(10):\n",
    "    x= np.random.random()*5-2.5\n",
    "    y = np.tanh(np.tanh(x*ans_w0+ans_b0)*ans_w1 + ans_b1)\n",
    "    x = A.forward(x)\n",
    "    dist.append(abs(x-y))\n",
    "    loss = abs(y-x) * learnging_rate\n",
    "    losses.append(loss**2)\n",
    "    A.backward(loss)\n",
    "#     if i % 2 == 1:\n",
    "#         print(np.mean(losses))\n",
    "#         print(ans_w0- A.w0, ans_w1- A.w1,ans_b0- A.b0,ans_b1- A.b1)\n"
   ]
  },
  {
   "cell_type": "code",
   "execution_count": 573,
   "id": "young-measure",
   "metadata": {
    "ExecuteTime": {
     "end_time": "2021-04-12T06:55:41.301782Z",
     "start_time": "2021-04-12T06:55:41.147853Z"
    },
    "scrolled": false
   },
   "outputs": [
    {
     "data": {
      "image/png": "[encoded data removed]",
      "text/plain": [
       "<Figure size 432x288 with 1 Axes>"
      ]
     },
     "metadata": {
      "needs_background": "light"
     },
     "output_type": "display_data"
    }
   ],
   "source": [
    "from matplotlib import pyplot as plt\n",
    "plt.plot(losses)\n",
    "plt.show()"
   ]
  },
  {
   "cell_type": "markdown",
   "id": "disturbed-jaguar",
   "metadata": {},
   "source": [
    "# 2.c"
   ]
  },
  {
   "cell_type": "code",
   "execution_count": 584,
   "id": "everyday-feeling",
   "metadata": {
    "ExecuteTime": {
     "end_time": "2021-04-12T07:07:22.238365Z",
     "start_time": "2021-04-12T07:07:22.221062Z"
    }
   },
   "outputs": [],
   "source": [
    "import numpy as np\n",
    "\n",
    "class NeuralNet:\n",
    "    def __init__(self):\n",
    "\n",
    "        \n",
    "        self.w1 = 3.0\n",
    "        self.w2 = 3.0\n",
    "        \n",
    "\n",
    "        \n",
    "        self.computational_history = []\n",
    "\n",
    "    def forward(self, x):\n",
    "        self.computational_history = []\n",
    "        self.computational_history.append(x)\n",
    "\n",
    "        x = x*self.w1\n",
    "        self.computational_history.append(x)\n",
    "        x = max(0,x)\n",
    "        self.computational_history.append(x)\n",
    "        x = x*self.w2\n",
    "        \n",
    "        \n",
    "        return x\n",
    "    \n",
    "    def search_derivative(self, loss):\n",
    "        w2_derivative = self.computational_history.pop() * loss\n",
    "        loss = self.w2*loss\n",
    "        loss = loss if 0<self.computational_history.pop() else 0\n",
    "        \n",
    "        w1_derivative = self.computational_history.pop() * loss\n",
    "        print(\"w1_derivative: \", w1_derivative)\n",
    "        print(\"w2_derivative: \", w2_derivative)"
   ]
  },
  {
   "cell_type": "code",
   "execution_count": 587,
   "id": "ultimate-commons",
   "metadata": {
    "ExecuteTime": {
     "end_time": "2021-04-12T07:07:44.552419Z",
     "start_time": "2021-04-12T07:07:44.541470Z"
    }
   },
   "outputs": [
    {
     "data": {
      "text/plain": [
       "0.0"
      ]
     },
     "execution_count": 587,
     "metadata": {},
     "output_type": "execute_result"
    }
   ],
   "source": [
    "A = NeuralNet()\n",
    "A.forward(-4)"
   ]
  },
  {
   "cell_type": "code",
   "execution_count": 588,
   "id": "coated-blackberry",
   "metadata": {
    "ExecuteTime": {
     "end_time": "2021-04-12T07:07:44.819591Z",
     "start_time": "2021-04-12T07:07:44.810557Z"
    }
   },
   "outputs": [
    {
     "name": "stdout",
     "output_type": "stream",
     "text": [
      "w1_derivative:  0\n",
      "w2_derivative:  0\n"
     ]
    }
   ],
   "source": [
    "A.search_derivative(-2)"
   ]
  }
 ],
 "metadata": {
  "kernelspec": {
   "display_name": "Python 3",
   "language": "python",
   "name": "python3"
  },
  "language_info": {
   "codemirror_mode": {
    "name": "ipython",
    "version": 3
   },
   "file_extension": ".py",
   "mimetype": "text/x-python",
   "name": "python",
   "nbconvert_exporter": "python",
   "pygments_lexer": "ipython3",
   "version": "3.6.13"
  },
  "latex_envs": {
   "LaTeX_envs_menu_present": true,
   "autoclose": false,
   "autocomplete": true,
   "bibliofile": "biblio.bib",
   "cite_by": "apalike",
   "current_citInitial": 1,
   "eqLabelWithNumbers": true,
   "eqNumInitial": 1,
   "hotkeys": {
    "equation": "Ctrl-E",
    "itemize": "Ctrl-I"
   },
   "labels_anchors": false,
   "latex_user_defs": false,
   "report_style_numbering": false,
   "user_envs_cfg": false
  }
 },
 "nbformat": 4,
 "nbformat_minor": 5
}
